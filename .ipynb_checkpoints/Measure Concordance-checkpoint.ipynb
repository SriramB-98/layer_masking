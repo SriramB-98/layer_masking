{
 "cells": [
  {
   "cell_type": "code",
   "execution_count": 9,
   "id": "553bf427",
   "metadata": {},
   "outputs": [],
   "source": [
    "from utils import *\n",
    "from dataset_utils import *\n",
    "\n",
    "from sal_resnet import resnet50\n",
    "from madry_models import vit_base_patch16_224 as vit_b_16\n",
    "\n",
    "from collections import defaultdict\n",
    "import torch.nn.functional as F\n",
    "\n",
    "seed = 1\n",
    "\n",
    "set_seed(seed)\n",
    "torch.set_default_dtype(torch.float32)\n",
    "torchvision.set_image_backend('accimage')\n",
    "\n",
    "salient_imagenet = SalientImageNet(IMAGENET_PATH, SALIENT_IMAGENET_PATH, typ='core')"
   ]
  },
  {
   "cell_type": "code",
   "execution_count": 10,
   "id": "e995aa64",
   "metadata": {},
   "outputs": [],
   "source": [
    "model_list = [(resnet50, 'resnet50'), (vit_b_16, 'vit_b_16')]\n",
    "\n",
    "class Identity(torch.nn.Module):\n",
    "    def __init__(self):\n",
    "        super(Identity, self).__init__()\n",
    "        \n",
    "    def forward(self, x):\n",
    "        return x\n",
    "\n",
    "models = []\n",
    "for model_type, m_name in model_list:\n",
    "    model = model_type(pretrained=True)\n",
    "    if 'resnet' in m_name:\n",
    "        model.fc = Identity()\n",
    "    elif 'vit_b_16' in m_name:\n",
    "        model.head = Identity()\n",
    "    model = MyDataParallel(model).to(device)\n",
    "    models.append(model.eval())"
   ]
  },
  {
   "cell_type": "code",
   "execution_count": 11,
   "id": "f1fd53cd",
   "metadata": {},
   "outputs": [],
   "source": [
    "num_workers = 4*torch.cuda.device_count()\n",
    "gpu_size = 256*torch.cuda.device_count()\n",
    "# rival10_loader = torch.utils.data.DataLoader(rival10_dataset, \n",
    "#                                              batch_size=max(gpu_size, 100), \n",
    "#                                              shuffle=False, \n",
    "#                                              num_workers=num_workers, \n",
    "#                                              pin_memory=True,\n",
    "#                                              drop_last=False)\n",
    "salient_loader = torch.utils.data.DataLoader(salient_imagenet, \n",
    "                                             batch_size=max(gpu_size, 100), \n",
    "                                             shuffle=False, \n",
    "                                             num_workers=num_workers, \n",
    "                                             pin_memory=True,\n",
    "                                             drop_last=False)"
   ]
  },
  {
   "cell_type": "code",
   "execution_count": 12,
   "id": "c34c38d1",
   "metadata": {},
   "outputs": [],
   "source": [
    "def gaussian_noise(imgs, noise):\n",
    "    return (imgs + noise*torch.randn(*imgs.shape, device=device)).clip(0,1)\n",
    "\n",
    "def blackout(imgs):\n",
    "    return torch.zeros_like(imgs, device=device)\n",
    "\n",
    "def greyout(imgs):\n",
    "    return torch.zeros_like(imgs, device=device) + torch.tensor([[[0.485]], [[0.456]], [[0.406]]], device=device)\n"
   ]
  },
  {
   "cell_type": "code",
   "execution_count": 13,
   "id": "be020b97",
   "metadata": {},
   "outputs": [],
   "source": [
    "def project_dist(bp, bvset):\n",
    "    '''\n",
    "    bp.shape: (bsize, fdim)\n",
    "    bvset.shape: (bsize, n, fdim)\n",
    "    '''\n",
    "#     bvset_mask = bvset.max(dim=-1).values == 0\n",
    "#     bvset[bvset_mask] += 1e-6\n",
    "    bvset = bvset + bvset.mean(dim=1, keepdims=True)\n",
    "    sol = torch.linalg.lstsq(bvset.permute(0,2,1), bp[:,:,None]).solution\n",
    "    return torch.linalg.norm(torch.einsum('ijk,ijl->il', sol, bvset) - bp, dim=-1)  "
   ]
  },
  {
   "cell_type": "code",
   "execution_count": 14,
   "id": "8ec8e724",
   "metadata": {},
   "outputs": [],
   "source": [
    "normalizer = transforms.Normalize(mean=[0.485, 0.456, 0.406], std=[0.229, 0.224, 0.225])\n",
    "sal_degrees = [0, 0.1, 0.2, 0.3, 0.4, 0.5, 0.6, 0.7, 0.8, 0.9,  1.0]\n",
    "corruptions = [\n",
    "               blackout,\n",
    "               greyout,\n",
    "               100\n",
    "              ]\n",
    "corr_names = [\n",
    "              \"Blackout\",\n",
    "              \"Greyout\",\n",
    "              'Layer Masking',\n",
    "             ]"
   ]
  },
  {
   "cell_type": "code",
   "execution_count": 15,
   "id": "a3eefd44",
   "metadata": {},
   "outputs": [],
   "source": [
    "def compute_similarities(all_features1, all_features2):\n",
    "    ## shape: \n",
    "    sims = []\n",
    "    sim_fn = torch.nn.functional.cosine_similarity\n",
    "    for i in range(all_features1.shape[0]):\n",
    "        sims.append(sim_fn(all_features1[i], all_features2[i], dim=-1).numpy())\n",
    "    sims = np.stack(sims)\n",
    "    return np.abs(sims[:]-sims[:1]).sum(-1)"
   ]
  },
  {
   "cell_type": "code",
   "execution_count": 16,
   "id": "b29094ae",
   "metadata": {},
   "outputs": [
    {
     "name": "stdout",
     "output_type": "stream",
     "text": [
      "0\n",
      "1\n",
      "2\n",
      "3\n"
     ]
    }
   ],
   "source": [
    "distances = [5, 10, 15, 20, 25]\n",
    "im_sizes = [224, 200, 128, 64, 32]\n",
    "resize_fns = [transforms.Resize(size) for size in im_sizes]\n",
    "# fv_sims = np.zeros((len(corruptions), len(im_sizes), len(distances)))\n",
    "# m_sims = np.zeros((len(patch_sizes), len(distances)))\n",
    "total = 0\n",
    "hc, vc = 112, 112\n",
    "sim_fn = torch.nn.CosineSimilarity(dim=1, eps=1e-08)\n",
    "all_sims = np.zeros((len(models), len(resize_fns), len(corruptions)))\n",
    "for i, (imgs, masks, labels) in enumerate(salient_loader):\n",
    "    print(i)\n",
    "    imgs = imgs.to(device)\n",
    "    masks = masks.to(device)\n",
    "    for mi, model in enumerate(models):\n",
    "        with torch.no_grad():\n",
    "            all_feature_list = []  \n",
    "            for ri, resize in enumerate(resize_fns):\n",
    "                resized_imgs = torch.zeros_like(imgs)\n",
    "                size = resize.size\n",
    "                resized_imgs[:,:, :size, :size] = resize(imgs)\n",
    "                masks = torch.zeros_like(masks)\n",
    "                masks[:,:, :size, :size] = 1\n",
    "\n",
    "                feature_list = []\n",
    "                for ci, corr in enumerate(corruptions):\n",
    "                    if type(corr) is int:\n",
    "                        features = model((normalizer(imgs), masks, [100,5]))\n",
    "                    else:\n",
    "                        corr_img = corr(imgs) \n",
    "                        features = model(normalizer(corr_img.to(device)*(1-masks) + resized_imgs*(masks)))\n",
    "    #                     features_2 = model(normalizer(corr_img.to(device)*(1-m2) + resized_imgs*(m2)))\n",
    "                    feature_list.append(features.cpu().detach())\n",
    "                all_feature_list.append(torch.stack(feature_list, dim=0))\n",
    "            all_features = torch.stack(all_feature_list, dim=0)\n",
    "            sims = compute_similarities(all_features, all_features[:,:,torch.randperm(all_features.shape[2])])\n",
    "            all_sims[mi] += sims\n",
    "    total += len(imgs)    \n",
    "    all_mean_sims = all_sims/total\n",
    "    if total > 1_000:\n",
    "        break\n",
    "        \n"
   ]
  },
  {
   "cell_type": "code",
   "execution_count": 36,
   "id": "9428a851",
   "metadata": {
    "scrolled": true
   },
   "outputs": [
    {
     "data": {
      "image/png": "[encoded data removed]",
      "text/plain": [
       "<Figure size 432x288 with 1 Axes>"
      ]
     },
     "metadata": {
      "needs_background": "light"
     },
     "output_type": "display_data"
    }
   ],
   "source": [
    "import matplotlib \n",
    "font = {\n",
    "        'size'   : 13}\n",
    "\n",
    "matplotlib.rc('font', **font)\n",
    "fig, axs = plt.subplots(1,1,)# figsize=(6,6))\n",
    "axs = [axs]\n",
    "axs[0].plot(im_sizes, all_mean_sims[0], label=[x+' (ResNet-50)' for x in corr_names])\n",
    "axs[0].plot(im_sizes, all_mean_sims[1], label=[x+' (ViT-B/16)' for x in corr_names[:-1]+['Token Dropping']])\n",
    "\n",
    "axs[0].set_xlabel('Image size')\n",
    "axs[0].set_ylabel('Average $\\Delta$ cosine similarity')\n",
    "axs[0].legend(loc='center left', bbox_to_anchor=(0.9, 0.6), framealpha=1.)\n",
    "# axs[0].set_title('ResNet-50')\n",
    "# axs[1].set_xlabel('Image size')\n",
    "# # axs[1].set_ylabel('Average $\\Delta$ cosine similarity')\n",
    "# axs[1].legend()\n",
    "# axs[1].set_title('ViT-B/16')\n",
    "\n",
    "plt.savefig('./results/cos_sim.png', bbox_inches='tight',)"
   ]
  },
  {
   "cell_type": "code",
   "execution_count": null,
   "id": "0c91f34e",
   "metadata": {},
   "outputs": [],
   "source": []
  },
  {
   "cell_type": "code",
   "execution_count": 10,
   "id": "5e9def4d",
   "metadata": {},
   "outputs": [
    {
     "name": "stdout",
     "output_type": "stream",
     "text": [
      "0\n",
      "1\n",
      "2\n",
      "3\n"
     ]
    }
   ],
   "source": [
    "distances = [5, 10, 15, 20, 25]\n",
    "patch_sizes = [16, 25, 36]\n",
    "fv_sims = np.zeros((len(corruptions), len(patch_sizes), len(distances)))\n",
    "m_sims = np.zeros((len(patch_sizes), len(distances)))\n",
    "total = 0\n",
    "hc, vc = 112, 112\n",
    "sim_fn = torch.nn.CosineSimilarity(dim=1, eps=1e-08)\n",
    "for i, (imgs, masks, labels) in enumerate(salient_loader):\n",
    "    print(i)\n",
    "    imgs = imgs.to(device)\n",
    "    with torch.no_grad():\n",
    "        corr_imgs = []     \n",
    "        for pi, p in enumerate(patch_sizes):\n",
    "            m1 = torch.zeros_like(masks).to(device)\n",
    "            m1[:,:,hc-p:hc+p, vc-p:vc+p] = 1\n",
    "            for di, d in enumerate(distances):\n",
    "                m2 = torch.zeros_like(masks).to(device)\n",
    "                angle = 2*np.pi*np.random.rand()\n",
    "                h_off, v_off = int(d*np.cos(angle)), int(d*np.sin(angle))\n",
    "                m2[:,:,hc+h_off-p:hc+h_off+p, vc+v_off-p:vc+v_off+p] = 1\n",
    "                m_sims[pi, di] = sim_fn(m1.view(len(m1),-1), m2.view(len(m2),-1)).sum()\n",
    "                for ci, corr in enumerate(corruptions):\n",
    "                    if type(corr) is int:\n",
    "                        features_1 = model((normalizer(imgs), m1, corr))\n",
    "                        features_2 = model((normalizer(imgs), m2, corr))\n",
    "                    else:\n",
    "                        corr_img = corr(imgs) \n",
    "                        features_1 = model(normalizer(corr_img.to(device)*(1-m1) + imgs*(m1)))\n",
    "                        features_2 = model(normalizer(corr_img.to(device)*(1-m2) + imgs*(m2)))\n",
    "                    fv_sims[ci, pi, di] += sim_fn(features_1, features_2).sum()\n",
    "\n",
    "    total += len(imgs)    \n",
    "    if total > 1_000:\n",
    "        break\n",
    "        \n",
    "fv_sims = fv_sims/total"
   ]
  },
  {
   "cell_type": "code",
   "execution_count": 11,
   "id": "aafaac18",
   "metadata": {},
   "outputs": [
    {
     "data": {
      "text/plain": [
       "<matplotlib.legend.Legend at 0x7f61fb96b250>"
      ]
     },
     "execution_count": 11,
     "metadata": {},
     "output_type": "execute_result"
    },
    {
     "data": {
      "image/png": "[encoded data removed]",
      "text/plain": [
       "<Figure size 720x360 with 1 Axes>"
      ]
     },
     "metadata": {
      "needs_background": "light"
     },
     "output_type": "display_data"
    }
   ],
   "source": [
    "plt.figure(figsize=(10,5))\n",
    "for i, corr in enumerate(corr_names):\n",
    "    plt.plot([0] + distances, np.concatenate((np.ones_like(fv_sims[i][:,:1]), fv_sims[i]), axis=1).transpose(), label=[f'{corr} {2*p}x{2*p}' for p in patch_sizes])\n",
    "plt.plot([0] + distances, np.concatenate((np.ones_like(m_sims[:,:1]), m_sims), axis=1).transpose(), label=[f'{corr} {2*p}x{2*p}' for p in patch_sizes])\n",
    "    plt.xlabel('Distance from centre')\n",
    "plt.legend()"
   ]
  },
  {
   "cell_type": "code",
   "execution_count": null,
   "id": "03b9f7e7",
   "metadata": {
    "scrolled": true
   },
   "outputs": [
    {
     "name": "stdout",
     "output_type": "stream",
     "text": [
      "0\n",
      "1\n",
      "2\n",
      "3\n",
      "4\n",
      "5\n",
      "6\n",
      "7\n",
      "8\n",
      "9\n",
      "10\n",
      "11\n",
      "12\n",
      "13\n",
      "14\n",
      "15\n"
     ]
    }
   ],
   "source": [
    "patch_sizes = [112, 56, 32, 28, 16, 14]\n",
    "num_attrs = 18\n",
    "all_seg_fvs = [None]*num_attrs\n",
    "baseline_dist = 0\n",
    "num_patches = 4\n",
    "total = 0\n",
    "\n",
    "for i, (imgs, attr_labels, attr_masks) in enumerate(rival10_loader):\n",
    "    print(i)\n",
    "    with torch.no_grad():\n",
    "        corr_imgs = []\n",
    "        for ci, corr in enumerate(corruptions):\n",
    "            if type(corr) is not int:\n",
    "                corr_imgs.append(corr(imgs))\n",
    "        \n",
    "        for attr_ind in range(num_attrs):\n",
    "#             print(attr_ind)\n",
    "            rel_mask = attr_labels[:,attr_ind].to(torch.bool)\n",
    "#             print(rel_mask.sum())\n",
    "            if not rel_mask.any():\n",
    "                continue\n",
    "            rel_imgs = imgs[rel_mask].to(device)\n",
    "            rel_attr_masks = attr_masks[rel_mask, attr_ind].to(device)\n",
    "            feature_vecs = []\n",
    "            for ci, corr in enumerate(corruptions):\n",
    "                if type(corr) is int:\n",
    "                    features = model((normalizer(rel_imgs), rel_attr_masks, corr))\n",
    "                else:\n",
    "                    features = model(normalizer(corr_imgs[ci][rel_mask].to(device)*(1-rel_attr_masks) + rel_imgs*(rel_attr_masks)))\n",
    "                feature_vecs.append(features)\n",
    "                \n",
    "            feature_vecs = torch.stack(feature_vecs, dim=1).cpu().numpy()\n",
    "            \n",
    "            if all_seg_fvs[attr_ind] is None:\n",
    "                all_seg_fvs[attr_ind] = feature_vecs\n",
    "            else:\n",
    "                all_seg_fvs[attr_ind] = np.concatenate((all_seg_fvs[attr_ind], feature_vecs), axis=0)\n",
    "        \n",
    "#         with open(f'./results/concordance_{i}.pkl', 'wb+') as fp:\n",
    "#             pickle.dump(all_seg_fvs, fp) \n",
    "        all_seg_fvs = [None]*num_attrs\n",
    "        \n",
    "    total += len(imgs)    \n",
    "    if total > 5_000:\n",
    "        break\n",
    "        \n",
    "with open(f'./results/concordance.pkl', 'wb+') as fp:\n",
    "    pickle.dump(all_seg_fvs, fp) "
   ]
  },
  {
   "cell_type": "code",
   "execution_count": 55,
   "id": "c00bf544",
   "metadata": {},
   "outputs": [],
   "source": [
    "a = []\n",
    "for i in range(18):\n",
    "    with open(f'./results/concordance_{i}.pkl', 'rb') as fp:\n",
    "        a.append(pickle.load(fp))"
   ]
  },
  {
   "cell_type": "code",
   "execution_count": 57,
   "id": "0dbe3bff",
   "metadata": {},
   "outputs": [],
   "source": [
    "a = list(zip(*a))"
   ]
  },
  {
   "cell_type": "code",
   "execution_count": 58,
   "id": "c4387ce5",
   "metadata": {},
   "outputs": [],
   "source": [
    "a = [np.concatenate(ai, axis=0) for ai in a]"
   ]
  },
  {
   "cell_type": "code",
   "execution_count": 77,
   "id": "3e0c6b64",
   "metadata": {},
   "outputs": [],
   "source": [
    "def cos(a, b, eps=1e-7):\n",
    "    a = a/np.maximum(np.linalg.norm(a, axis=-1, keepdims=True), eps)\n",
    "    b = b/np.maximum(np.linalg.norm(b, axis=-1, keepdims=True), eps)\n",
    "    return np.sum(a[:,None,:]*b[None,:,:], axis=-1)\n",
    "                     \n",
    "def rbf(a, b, gamma=1):\n",
    "    return np.exp(-gamma*np.linalg.norm(a[:, None, :] - b[None, :, :], axis=-1)**2)\n",
    "\n",
    "def mmd(arr1, arr2, k=rbf, gamma=1, sample=500):\n",
    "    inds = np.random.randint( min(len(arr1), len(arr2)), size=sample)\n",
    "#     print(len(arr1), len(arr2))\n",
    "    arr1, arr2 = arr1[inds], arr2[inds]\n",
    "    xx = k(arr1, arr1, gamma).mean()\n",
    "    yy = k(arr2, arr2, gamma).mean()\n",
    "    xy = k(arr1, arr2, gamma).mean()\n",
    "    return xx + yy - 2*xy"
   ]
  },
  {
   "cell_type": "code",
   "execution_count": 80,
   "id": "6d1c0c75",
   "metadata": {},
   "outputs": [
    {
     "data": {
      "text/plain": [
       "0.0"
      ]
     },
     "execution_count": 80,
     "metadata": {},
     "output_type": "execute_result"
    }
   ],
   "source": [
    "ci = 0\n",
    "mmd(a[0][:,ci], a[0][:,ci], k=cos)"
   ]
  },
  {
   "cell_type": "code",
   "execution_count": 83,
   "id": "69b65bfc",
   "metadata": {},
   "outputs": [
    {
     "data": {
      "text/plain": [
       "0.009313702583312988"
      ]
     },
     "execution_count": 83,
     "metadata": {},
     "output_type": "execute_result"
    }
   ],
   "source": [
    "mmd(a[0][:,0], a[1][:,0], k=cos)"
   ]
  },
  {
   "cell_type": "code",
   "execution_count": 84,
   "id": "f4fb69ed",
   "metadata": {},
   "outputs": [
    {
     "data": {
      "text/plain": [
       "0.009414076805114746"
      ]
     },
     "execution_count": 84,
     "metadata": {},
     "output_type": "execute_result"
    }
   ],
   "source": [
    "mmd(a[0][:,1], a[1][:,1], k=cos)"
   ]
  },
  {
   "cell_type": "code",
   "execution_count": 85,
   "id": "ff7062fd",
   "metadata": {},
   "outputs": [
    {
     "data": {
      "text/plain": [
       "0.008572220802307129"
      ]
     },
     "execution_count": 85,
     "metadata": {},
     "output_type": "execute_result"
    }
   ],
   "source": [
    "mmd(a[0][:,2], a[1][:,2], k=cos)"
   ]
  },
  {
   "cell_type": "code",
   "execution_count": 15,
   "id": "3871cfc7",
   "metadata": {
    "scrolled": false
   },
   "outputs": [
    {
     "data": {
      "text/plain": [
       "[<matplotlib.lines.Line2D at 0x7f22f1f722d0>,\n",
       " <matplotlib.lines.Line2D at 0x7f22f1f76750>,\n",
       " <matplotlib.lines.Line2D at 0x7f22f1f727d0>]"
      ]
     },
     "execution_count": 15,
     "metadata": {},
     "output_type": "execute_result"
    },
    {
     "data": {
      "image/png": "[encoded data removed]",
      "text/plain": [
       "<Figure size 432x288 with 1 Axes>"
      ]
     },
     "metadata": {
      "needs_background": "light"
     },
     "output_type": "display_data"
    },
    {
     "name": "stdout",
     "output_type": "stream",
     "text": [
      "ERROR! Session/line number was not unique in database. History logging moved to new session 1640\n"
     ]
    }
   ],
   "source": [
    "plt.plot(patch_sizes[:-1], all_dists.transpose()[:-1])"
   ]
  },
  {
   "cell_type": "code",
   "execution_count": 26,
   "id": "efa6e6cc",
   "metadata": {},
   "outputs": [
    {
     "data": {
      "text/plain": [
       "tensor(0.6428, device='cuda:0')"
      ]
     },
     "execution_count": 26,
     "metadata": {},
     "output_type": "execute_result"
    }
   ],
   "source": [
    "(ad[2][~torch.isnan(ad[2])]/bd[2][~torch.isnan(ad[2])]).mean()"
   ]
  },
  {
   "cell_type": "code",
   "execution_count": 112,
   "id": "ab2a124f",
   "metadata": {},
   "outputs": [
    {
     "data": {
      "text/plain": [
       "4.0"
      ]
     },
     "execution_count": 112,
     "metadata": {},
     "output_type": "execute_result"
    }
   ],
   "source": [
    "224/56"
   ]
  },
  {
   "cell_type": "code",
   "execution_count": 74,
   "id": "992a02a9",
   "metadata": {},
   "outputs": [
    {
     "data": {
      "text/plain": [
       "tensor(0.6786, device='cuda:0')"
      ]
     },
     "execution_count": 74,
     "metadata": {},
     "output_type": "execute_result"
    }
   ],
   "source": [
    "(ad[2][ad[2] < 200]/bd[2][ad[2] < 200]).mean()"
   ]
  },
  {
   "cell_type": "code",
   "execution_count": 67,
   "id": "8657b811",
   "metadata": {},
   "outputs": [
    {
     "data": {
      "text/plain": [
       "tensor([[0.6836, 0.0000, 0.0000, 0.7897, 0.6940],\n",
       "        [1.1242, 0.5260, 0.5271, 0.6447, 0.5778],\n",
       "        [0.7701, 1.1054, 0.5810, 0.8965, 0.7401],\n",
       "        ...,\n",
       "        [0.6975, 0.0000, 0.5790, 0.8405, 0.6645],\n",
       "        [0.6314, 0.4793, 0.9585, 0.7787, 1.2533],\n",
       "        [0.6875, 0.7598, 0.5733, 0.4644, 0.5437]], device='cuda:0')"
      ]
     },
     "execution_count": 67,
     "metadata": {},
     "output_type": "execute_result"
    }
   ],
   "source": [
    "torch.linalg.norm(basis_features[ad[2] < 200], dim=-1)"
   ]
  },
  {
   "cell_type": "code",
   "execution_count": null,
   "id": "79b9066d",
   "metadata": {},
   "outputs": [],
   "source": [
    "# def dilate_or_contract(masks, d=0.5):\n",
    "#     if d == 0.:\n",
    "#         return torch.zeros_like(masks, device=masks.device).float()\n",
    "#     if d == -0.5:\n",
    "#         return 1 - masks\n",
    "#     if d == 0.5:\n",
    "#         return masks\n",
    "#     klen = int(90*np.abs(d - 0.5) + 1)\n",
    "#     if klen %2 == 0:\n",
    "#         klen += 1\n",
    "#     new_masks = torch.nn.functional.conv2d(masks.float(), torch.ones(1, 1, klen,klen, device=device)/(klen*klen), padding=(klen//2, klen//2))\n",
    "#     if d > 0.5:\n",
    "#         return (new_masks > 0).float()\n",
    "#     else:\n",
    "#         return (new_masks >= 1-1e-3).float()\n",
    "    \n",
    "# imgnet_subset_classes = [x for x in coco_imgnet_classes.keys() if coco_imgnet_classes[x] != -1]\n",
    "# imgnet_subset_mask = np.zeros(1000)\n",
    "# imgnet_subset_mask[imgnet_subset_classes] = 1\n",
    "\n",
    "# start_from_sal = False\n",
    "# seg_mask = None\n",
    "# sal_degrees = [-0.5, 0., 0.5]\n",
    "# total_hits = np.zeros((len(corruptions), len(sal_degrees)))\n",
    "# class_counts = np.zeros((len(corruptions), len(sal_degrees), 1000))\n",
    "# total = 0\n",
    "# for i, (imgs, masks) in enumerate(coco_train_loader):\n",
    "#     imgs = imgs.to(device)\n",
    "#     masks = masks.to(device)\n",
    "#     with torch.no_grad():\n",
    "#         clean_logits = model(normalizer(imgs))\n",
    "#     clean_preds = clean_logits.argmax(-1)\n",
    "#     coco_preds = torch.tensor([coco_imgnet_classes[x.item()] for x in clean_preds]).to(device)\n",
    "#     rel_samples = torch.any( masks.view(len(coco_preds), -1) == coco_preds.view(-1, 1), dim=1)\n",
    "#     if not rel_samples.any():\n",
    "#         continue\n",
    "    \n",
    "# #     print(f'Relevant samples: {rel_samples.float().sum()}')\n",
    "#     rel_imgs = imgs[rel_samples]\n",
    "#     rel_masks = (masks[rel_samples] == coco_preds[rel_samples].view(-1, 1, 1, 1)).float()\n",
    "#     rel_labels = clean_preds[rel_samples]\n",
    "    \n",
    "# #     raise Exception()\n",
    "#     corr_imgs = []\n",
    "#     for ci, corr in enumerate(corruptions):\n",
    "#         if type(corr) is not int:\n",
    "#             corr_imgs.append(corr(rel_imgs))\n",
    "    \n",
    "#     corr_masks = []\n",
    "#     for di, d in enumerate(sal_degrees):\n",
    "#         corr_masks.append(dilate_or_contract(rel_masks, d))\n",
    "            \n",
    "#     for ci, corr in enumerate(corruptions):\n",
    "#         for di, d in enumerate(sal_degrees):\n",
    "#             if type(corr) is int:\n",
    "#                 logits = model((normalizer(rel_imgs), 1-corr_masks[di], corr))\n",
    "#             else:\n",
    "#                 m = corr_masks[di]\n",
    "#                 probe_imgs = corr_imgs[ci].to(device)*m + rel_imgs*(1-m)\n",
    "#                 logits = model(normalizer(probe_imgs))  \n",
    "\n",
    "#             preds = logits.argmax(-1)\n",
    "#             hits = (preds == rel_labels).float().sum().item()\n",
    "#             total_hits[ci][di] += hits\n",
    "#             c_count = torch.bincount(preds, minlength=1000).cpu().numpy()\n",
    "#             class_counts[ci][di] +=  c_count*(imgnet_subset_mask)\n",
    "    \n",
    "#     total += len(rel_imgs)\n",
    "#     if total > 2_000:\n",
    "#         break\n",
    "#     class_probs = class_counts/(1e-5 + class_counts.sum(dim=-1, keepdims=True))\n",
    "#     accuracies = total_hits/total\n",
    "    \n",
    "# #accuracies[:,2]= array([0.31891348, 0.28571429, 0.24195171])"
   ]
  }
 ],
 "metadata": {
  "kernelspec": {
   "display_name": "Python 3 (ipykernel)",
   "language": "python",
   "name": "python3"
  },
  "language_info": {
   "codemirror_mode": {
    "name": "ipython",
    "version": 3
   },
   "file_extension": ".py",
   "mimetype": "text/x-python",
   "name": "python",
   "nbconvert_exporter": "python",
   "pygments_lexer": "ipython3",
   "version": "3.7.15"
  }
 },
 "nbformat": 4,
 "nbformat_minor": 5
}
