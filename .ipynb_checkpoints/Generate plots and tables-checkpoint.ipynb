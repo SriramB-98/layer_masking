{
 "cells": [
  {
   "cell_type": "code",
   "execution_count": 1,
   "id": "15b88593",
   "metadata": {},
   "outputs": [],
   "source": [
    "import matplotlib.pyplot as plt\n",
    "import numpy as np\n",
    "from utils import *\n",
    "import matplotlib \n",
    "font = {'size'   : 18}\n",
    "\n",
    "matplotlib.rc('font', **font)"
   ]
  },
  {
   "cell_type": "code",
   "execution_count": null,
   "id": "907c1f3e",
   "metadata": {},
   "outputs": [],
   "source": [
    "sal_degrees = [0, 0.1, 0.2, 0.3, 0.4, 0.5, 0.6, 0.7, 0.8, 0.9,  1.0]\n",
    "corruptions = [\n",
    "               (None, \"Blackout\"),\n",
    "               (None, \"Greyout\"),\n",
    "                ([7, 4, 8, 0.5],\"Masking + Padding all layers\"),\n",
    "                ([7, 0,],\"Masking + padding first Conv layer\"),\n",
    "                ([7, 2,],\"Masking + padding first 2 ResNet blocks\"),\n",
    "                ([0, 4,],\"Masking only\"),\n",
    "              ]\n",
    "mtypes = [\n",
    "          (None, 'ResNet50'), \n",
    "          (None, 'ViT-B-16')\n",
    "        ]\n",
    "seg_fns = [\n",
    "            (None,  'Quickshift'),\n",
    "            (None, '16x16 patches'),\n",
    "            (None, 'Contour'),\n",
    "            (None, 'SLIC'),\n",
    "            ]\n",
    "orders = [\n",
    "            'Random', \n",
    "            'Most salient first', \n",
    "            'Least salient first'\n",
    "        ] \n",
    "seg_fns = [x for _, x in seg_fns]\n",
    "mtypes = [x for _, x in mtypes]\n",
    "corruptions = [x for _, x in corruptions]\n",
    "\n",
    "skip_inds = [(si, oi, ci, 1) for si in range(len(seg_fns)) for oi in range(len(orders)) for ci in [3, 4, 5] ]\n",
    "write = True\n",
    "num_samples = 5000\n",
    "\n",
    "total_hits = np.load('./results/total_hits.npy')\n",
    "class_counts = np.load('./results/class_counts.npy')\n",
    "wn_sim_hits = np.load('./results/wn_sim_hits.npy')\n",
    "unchanged_preds = np.load('./results/unchanged_preds.npy')\n",
    "total = class_counts.sum(-1).ravel()[0]\n",
    "acc = total_hits/total\n",
    "class_ent = ce(class_counts/total)\n",
    "wn_sim_acc = wn_sim_hits/total\n",
    "unchanged_preds = unchanged_preds/total\n",
    "\n",
    "metrics = [(acc, \"Accuracy\"), (class_ent, \"Class Entropy\"), (wn_sim_acc, \"Wordnet Similarity\"), (unchanged_preds, \"Unchanged Predictions\")]"
   ]
  },
  {
   "cell_type": "markdown",
   "id": "03b86b01",
   "metadata": {},
   "source": [
    "Plots of model behaviour as features are removed"
   ]
  },
  {
   "cell_type": "code",
   "execution_count": null,
   "id": "7f25d902",
   "metadata": {
    "scrolled": true
   },
   "outputs": [],
   "source": [
    "rel_corruptions = corruptions[:3]\n",
    "\n",
    "# print(corruptions[ind[0]][1])\n",
    "# print(models[ind[0]][1])\n",
    "si_list = [0, 1, 3]\n",
    "oi_list = [0, 1, 2]\n",
    "for si in si_list:\n",
    "    for i in range(len(metrics)):\n",
    "        fig, axs = plt.subplots(1, 3, figsize=(20, 5))\n",
    "\n",
    "        metric, metric_name = metrics[i] \n",
    "\n",
    "        skip = [(0,1), (1 if si == 1 else 2,1)]\n",
    "        for oii, oi in enumerate(oi_list):\n",
    "            for j in range(len(mtypes)):\n",
    "                for i in range(len(rel_corruptions)):\n",
    "                    if (i, j) in skip:\n",
    "                        continue\n",
    "                    if j == 1 and i == 2:\n",
    "                        corr_name = 'Token drop'\n",
    "                    elif j == 0 and i == 2:\n",
    "                        corr_name = 'Layer masking'\n",
    "                    else:\n",
    "                        corr_name = rel_corruptions[i] \n",
    "                    axs[oii].plot(sal_degrees, metric[si,oi,i,j], label=f'{mtypes[j]} ({corr_name})')\n",
    "            if oii == 0:\n",
    "                axs[oii].set_ylabel(f'{seg_fns[si]}')\n",
    "            if oii == 2:\n",
    "                axs[oii].legend()\n",
    "#             if sii == len(si_list)-1:\n",
    "            axs[oii].set_xlabel(f'{orders[oi]}')\n",
    "\n",
    "        plt.savefig(f'./results/{metric_name.lower().replace(\" \",\"_\")}_{seg_fns[si].lower()}.png', bbox_inches='tight')\n"
   ]
  },
  {
   "cell_type": "code",
   "execution_count": 2,
   "id": "45985d1d",
   "metadata": {},
   "outputs": [],
   "source": [
    "sal_degrees = [0, 0.1, 0.2, 0.3, 0.4, 0.5, 0.6, 0.7, 0.8, 0.9,  1.0]\n",
    "corruptions = [\n",
    "                (None, \"Grey\"),\n",
    "                (None, \"Average\"),\n",
    "                 (None, \"Red\"),\n",
    "                 (None, \"Blue\"),\n",
    "                 (None, \"Green\"),\n",
    "              ]\n",
    "mtypes = [\n",
    "          (None, 'ResNet50'), \n",
    "          (None, 'ViT-B/16'), \n",
    "        ]\n",
    "seg_fns = [\n",
    "#             (None,  'Quickshift'),\n",
    "            (None, '16x16 patches'),\n",
    "#             (None, 'Contour'),\n",
    "            (None, 'SLIC'),\n",
    "            ]\n",
    "orders = [\n",
    "            'Random', \n",
    "        ] \n",
    "seg_fns = [x for _, x in seg_fns]\n",
    "mtypes = [x for _, x in mtypes]\n",
    "corruptions = [x for _, x in corruptions]\n",
    "\n",
    "skip_inds = [(si, oi, ci, 1) for si in range(len(seg_fns)) for oi in range(len(orders)) for ci in [3, 4, 5] ]\n",
    "write = True\n",
    "num_samples = 5000\n",
    "\n",
    "total_hits = np.load('./results/total_hits_more_colors.npy')\n",
    "class_counts = np.load('./results/class_counts_more_colors.npy')\n",
    "wn_sim_hits = np.load('./results/wn_sim_hits_more_colors.npy')\n",
    "unchanged_preds = np.load('./results/unchanged_preds_more_colors.npy')\n",
    "total = class_counts.sum(-1).ravel()[0]\n",
    "acc = total_hits/total\n",
    "class_ent = ce(class_counts/total)\n",
    "wn_sim_acc = wn_sim_hits/total\n",
    "unchanged_preds = unchanged_preds/total\n",
    "\n",
    "metrics = [(acc, \"Accuracy\"), (class_ent, \"Class Entropy\"), (wn_sim_acc, \"Wordnet Similarity\"), (unchanged_preds, \"Unchanged Predictions\")]"
   ]
  },
  {
   "cell_type": "code",
   "execution_count": null,
   "id": "47f80ccf",
   "metadata": {
    "scrolled": false
   },
   "outputs": [],
   "source": [
    "for metric, metric_name in metrics:\n",
    "    for si, (seg_name) in enumerate(seg_fns):\n",
    "        fig, axs = plt.subplots(1, len(mtypes), figsize=(20,10))\n",
    "        for mi, (mname) in enumerate(mtypes):\n",
    "            for ci, (corr) in enumerate(corruptions):\n",
    "                axs[mi].plot(sal_degrees, metric[si,oi,ci,mi], label=f'{mname} ({corr})')\n",
    "            axs[mi].legend()\n",
    "        plt.savefig(f'./results/{metric_name.lower().replace(\" \",\"_\")}_{seg_name.lower()}_more_colors.png', bbox_inches='tight')"
   ]
  },
  {
   "cell_type": "code",
   "execution_count": 14,
   "id": "4629693f",
   "metadata": {},
   "outputs": [
    {
     "ename": "NameError",
     "evalue": "name 'resnext50_32x4d' is not defined",
     "output_type": "error",
     "traceback": [
      "\u001b[0;31m---------------------------------------------------------------------------\u001b[0m",
      "\u001b[0;31mNameError\u001b[0m                                 Traceback (most recent call last)",
      "\u001b[0;32m/tmp/ipykernel_1079254/1074900816.py\u001b[0m in \u001b[0;36m<module>\u001b[0;34m\u001b[0m\n\u001b[1;32m      9\u001b[0m               ]\n\u001b[1;32m     10\u001b[0m mtypes = [\n\u001b[0;32m---> 11\u001b[0;31m           \u001b[0;34m(\u001b[0m\u001b[0mresnext50_32x4d\u001b[0m\u001b[0;34m,\u001b[0m \u001b[0;34m'resnext50_32x4d'\u001b[0m\u001b[0;34m)\u001b[0m\u001b[0;34m,\u001b[0m\u001b[0;34m\u001b[0m\u001b[0;34m\u001b[0m\u001b[0m\n\u001b[0m\u001b[1;32m     12\u001b[0m           \u001b[0;34m(\u001b[0m\u001b[0mwide_resnet50_2\u001b[0m\u001b[0;34m,\u001b[0m \u001b[0;34m'wide_resnet50'\u001b[0m\u001b[0;34m)\u001b[0m\u001b[0;34m,\u001b[0m\u001b[0;34m\u001b[0m\u001b[0;34m\u001b[0m\u001b[0m\n\u001b[1;32m     13\u001b[0m           \u001b[0;34m(\u001b[0m\u001b[0mresnet50\u001b[0m\u001b[0;34m,\u001b[0m \u001b[0;34m'resnet50'\u001b[0m\u001b[0;34m)\u001b[0m\u001b[0;34m\u001b[0m\u001b[0;34m\u001b[0m\u001b[0m\n",
      "\u001b[0;31mNameError\u001b[0m: name 'resnext50_32x4d' is not defined"
     ]
    }
   ],
   "source": [
    "sal_degrees = [0, 0.1, 0.2, 0.3, 0.4, 0.5, 0.6, 0.7, 0.8, 0.9,  1.0]\n",
    "corruptions = [\n",
    "                (None, \"Blackout\"),\n",
    "               (None, \"Greyout\"),\n",
    "#                 ([0],\"Layer mask\"),\n",
    "#                 ([1],\"Layer mask\"),\n",
    "#                 ([2],\"Layer mask\"),\n",
    "               (None,\"Layer masking\")\n",
    "              ]\n",
    "mtypes = [\n",
    "          (None, 'resnext50_32x4d'),\n",
    "          (0, 'wide_resnet50'),\n",
    "          (0, 'resnet50')\n",
    "        ]\n",
    "seg_fns = [\n",
    "#             (None,  'Quickshift'),\n",
    "            (None, '16x16 patches'),\n",
    "#             (None, 'Contour'),\n",
    "            (None, 'SLIC'),\n",
    "            ]\n",
    "orders = [\n",
    "            'Random', \n",
    "        ] \n",
    "seg_fns = [x for _, x in seg_fns]\n",
    "mtypes = [x for _, x in mtypes]\n",
    "corruptions = [x for _, x in corruptions]\n",
    "\n",
    "skip_inds = [(si, oi, ci, 1) for si in range(len(seg_fns)) for oi in range(len(orders)) for ci in [3, 4, 5] ]\n",
    "write = True\n",
    "num_samples = 5000\n",
    "\n",
    "total_hits = np.load('./results/total_hits_more_colors.npy')\n",
    "class_counts = np.load('./results/class_counts_more_colors.npy')\n",
    "wn_sim_hits = np.load('./results/wn_sim_hits_more_colors.npy')\n",
    "unchanged_preds = np.load('./results/unchanged_preds_more_colors.npy')\n",
    "total = class_counts.sum(-1).ravel()[0]\n",
    "acc = total_hits/total\n",
    "class_ent = ce(class_counts/total)\n",
    "wn_sim_acc = wn_sim_hits/total\n",
    "unchanged_preds = unchanged_preds/total\n",
    "\n",
    "metrics = [(acc, \"Accuracy\"), (class_ent, \"Class Entropy\"), (wn_sim_acc, \"Wordnet Similarity\"), (unchanged_preds, \"Unchanged Predictions\")]"
   ]
  },
  {
   "cell_type": "markdown",
   "id": "6fdf2468",
   "metadata": {},
   "source": [
    "Ablation"
   ]
  },
  {
   "cell_type": "code",
   "execution_count": null,
   "id": "7eaecbf6",
   "metadata": {},
   "outputs": [],
   "source": [
    "avg_auc = np.stack([metric[:,:,:,0,:].mean(axis=(-1, -3,-4)).round(4) for metric, _ in metrics])\n",
    "\n",
    "import pandas as pd \n",
    "pd.DataFrame(avg_auc.transpose(), index=corruptions).to_latex(f\"./results/ablation_table.csv\", header=[x for _,x in metrics])"
   ]
  },
  {
   "cell_type": "markdown",
   "id": "83986725",
   "metadata": {},
   "source": [
    "LIME interpretability numbers"
   ]
  },
  {
   "cell_type": "code",
   "execution_count": null,
   "id": "cff84fcc",
   "metadata": {},
   "outputs": [],
   "source": [
    "import pickle\n",
    "\n",
    "seg_fn_names = ['Quickshift', 'SLIC', '16 x 16 patches']\n",
    "\n",
    "for model_name in ['resnet50']:#, 'vit_b_16']:\n",
    "    print(model_name)\n",
    "    with open(f'./results/pixel_imagenet_{model_name}_LIME_coverage.pkl', 'rb') as fp:\n",
    "        cov = np.stack([x for _, x in pickle.load(fp)])\n",
    "        \n",
    "        mean_cov = np.round(cov.mean(0), 4)\n",
    "        win_percents = np.round(np.stack([(cov.argmax(-1) == i).mean(0) for i in range(3)]).transpose(), 4)\n",
    "    print(pd.DataFrame(mean_cov, index=seg_fn_names).to_latex(header=['Blackout', 'Greyout', 'Layer masking']))\n",
    "    print(pd.DataFrame(win_percents, index=seg_fn_names).to_latex(header=['Blackout', 'Greyout', 'Layer masking']))"
   ]
  },
  {
   "cell_type": "code",
   "execution_count": null,
   "id": "0c9e0f2e",
   "metadata": {},
   "outputs": [],
   "source": [
    "with open(f'./results/pixel_imagenet_resnet50', 'rb') as fp:\n",
    "    scores = np.stack([x for _, x in pickle.load(fp)])"
   ]
  },
  {
   "cell_type": "code",
   "execution_count": null,
   "id": "af1fc54e",
   "metadata": {},
   "outputs": [],
   "source": [
    "all_dists = np.load('./results/linearity_all_dists.npy')\n",
    "all_cos_sims = np.load('./results/linearity_all_cos_sims.npy')\n",
    "all_feature_vector_mags = np.load('./results/linearity_all_feature_vector_mags.npy')"
   ]
  },
  {
   "cell_type": "code",
   "execution_count": null,
   "id": "ac616271",
   "metadata": {},
   "outputs": [],
   "source": [
    "font = {'size'   : 12}\n",
    "\n",
    "matplotlib.rc('font', **font)\n",
    "image_size = [224, 112, 56, 28, 14]\n",
    "plt.plot(image_size, all_feature_vector_mags[:,:,0].transpose(), label=['Blackout (ResNet-50)', 'Greyout  (ResNet-50)', 'Token Dropping  (ResNet-50)'])\n",
    "plt.plot(image_size, [i**2/224**2 *all_feature_vector_mags[0,0,0] for i in image_size], label='$E \\|f\\| \\propto n^2$  (ResNet-50)')\n",
    "\n",
    "plt.plot(image_size, all_feature_vector_mags[:,:,1].transpose(), label=['Blackout (ViT-B/16)', 'Greyout (ViT-B/16)', 'Token Dropping (ViT-B/16)'])\n",
    "# plt.plot(image_size, [i**2/224**2 *all_feature_vector_mags[0,0,1] for i in image_size], label='$E \\|f\\| \\propto n^2 (ViT-B/16)$')\n",
    "\n",
    "plt.ylabel('Avg magnitude ($E \\|f\\|$)')\n",
    "plt.xlabel('Image size ($n$)')\n",
    "plt.legend(loc='center left', bbox_to_anchor=(0.9, 0.4), framealpha=1.)\n",
    "# plt.title('ViT-B/16')\n",
    "\n",
    "plt.savefig('./results/mag_plot.png',bbox_inches='tight' )"
   ]
  },
  {
   "cell_type": "code",
   "execution_count": null,
   "id": "c1993111",
   "metadata": {},
   "outputs": [],
   "source": [
    "print(pd.DataFrame(np.round( np.concatenate((all_cos_sims[:,:,0],all_cos_sims[:,:,1]),axis=0) , 4).transpose(), index=[224, 112, 56, 28, 14]).to_latex(header=['Blackout', 'Greyout', 'Layer masking', 'Blackout', 'Greyout', 'Layer masking']))"
   ]
  },
  {
   "cell_type": "code",
   "execution_count": null,
   "id": "b3836ab7",
   "metadata": {},
   "outputs": [],
   "source": [
    "with open('./results/')"
   ]
  }
 ],
 "metadata": {
  "kernelspec": {
   "display_name": "Python 3 (ipykernel)",
   "language": "python",
   "name": "python3"
  },
  "language_info": {
   "codemirror_mode": {
    "name": "ipython",
    "version": 3
   },
   "file_extension": ".py",
   "mimetype": "text/x-python",
   "name": "python",
   "nbconvert_exporter": "python",
   "pygments_lexer": "ipython3",
   "version": "3.7.11"
  }
 },
 "nbformat": 4,
 "nbformat_minor": 5
}
