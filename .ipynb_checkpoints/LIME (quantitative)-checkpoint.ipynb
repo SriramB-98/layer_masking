{
 "cells": [
  {
   "cell_type": "code",
   "execution_count": 1,
   "metadata": {
    "execution": {
     "iopub.execute_input": "2023-03-13T15:57:04.160546Z",
     "iopub.status.busy": "2023-03-13T15:57:04.160387Z",
     "iopub.status.idle": "2023-03-13T15:57:57.561035Z",
     "shell.execute_reply": "2023-03-13T15:57:57.560611Z"
    }
   },
   "outputs": [],
   "source": [
    "from utils import *\n",
    "from dataset_utils import *\n",
    "import lime_image\n",
    "seed = 0\n",
    "set_seed(seed)\n",
    "from skimage.segmentation import quickshift, slic\n",
    "from sal_resnet import resnet50, resnext50_32x4d, wide_resnet50_2\n",
    "# from madry_models import vit_base_patch16_224 as vit_b_16\n",
    "\n",
    "from collections import defaultdict\n",
    "import torch.nn.functional as F\n",
    "seed = 1\n",
    "\n",
    "set_seed(seed)\n",
    "torch.set_default_dtype(torch.float32)\n",
    "torchvision.set_image_backend('PIL')"
   ]
  },
  {
   "cell_type": "code",
   "execution_count": 2,
   "metadata": {
    "execution": {
     "iopub.execute_input": "2023-03-13T15:57:57.563521Z",
     "iopub.status.busy": "2023-03-13T15:57:57.563246Z",
     "iopub.status.idle": "2023-03-13T15:59:29.703306Z",
     "shell.execute_reply": "2023-03-13T15:59:29.702803Z"
    }
   },
   "outputs": [],
   "source": [
    "pixel_imagenet = PixelImageNet(IMAGENET_PATH, \n",
    "                             PIXEL_IMAGENET_PATH,\n",
    "                             img_transform=None, mask_transform=None)\n",
    "pixel_imagenet, _ = torch.utils.data.random_split(pixel_imagenet, [len(pixel_imagenet), 0])"
   ]
  },
  {
   "cell_type": "code",
   "execution_count": 3,
   "metadata": {
    "execution": {
     "iopub.execute_input": "2023-03-13T15:59:29.705754Z",
     "iopub.status.busy": "2023-03-13T15:59:29.705607Z",
     "iopub.status.idle": "2023-03-13T15:59:29.712276Z",
     "shell.execute_reply": "2023-03-13T15:59:29.711934Z"
    }
   },
   "outputs": [],
   "source": [
    "def get_image(path):\n",
    "    with open(os.path.abspath(path), 'rb') as f:\n",
    "        with Image.open(f) as img:\n",
    "            return img.convert('RGB') \n",
    "        \n",
    "def get_input_transform():\n",
    "    normalize = transforms.Normalize(mean=[0.485, 0.456, 0.406],\n",
    "                                    std=[0.229, 0.224, 0.225])       \n",
    "    transf = transforms.Compose([\n",
    "        transforms.Resize((256, 256)),\n",
    "        transforms.CenterCrop(224),\n",
    "        transforms.ToTensor(),\n",
    "        normalize\n",
    "    ])    \n",
    "\n",
    "    return transf\n",
    "\n",
    "def get_input_tensors(img):\n",
    "    transf = get_input_transform()\n",
    "    # unsqeeze converts single image to batch of 1\n",
    "    return transf(img).unsqueeze(0)\n",
    "\n",
    "def get_pil_transform(): \n",
    "    transf = transforms.Compose([\n",
    "        transforms.Resize((256, 256)),\n",
    "        transforms.CenterCrop(224)\n",
    "    ])    \n",
    "\n",
    "    return transf\n",
    "\n",
    "def get_preprocess_transform():\n",
    "    normalize = transforms.Normalize(mean=[0.485, 0.456, 0.406],\n",
    "                                    std=[0.229, 0.224, 0.225])     \n",
    "    transf = transforms.Compose([\n",
    "        transforms.ToTensor(),\n",
    "        normalize\n",
    "    ])    \n",
    "\n",
    "    return transf    \n",
    "\n",
    "pill_transf = get_pil_transform()\n",
    "preprocess_transform = get_preprocess_transform()\n",
    "device = torch.device(\"cuda\" if torch.cuda.is_available() else \"cpu\")\n",
    "\n",
    "def batch_predict(model, images, masks=None):\n",
    "    model.eval()\n",
    "#     print(images[-1].shape)\n",
    "#     plt.imshow(images[-1])\n",
    "#     if len(images) > 1:\n",
    "#         return\n",
    "    batch = torch.stack(tuple(preprocess_transform(i) for i in images), dim=0)\n",
    "    \n",
    "    model.to(device)\n",
    "    batch = batch.to(device)     \n",
    "    with torch.no_grad():\n",
    "        if masks is None:\n",
    "            logits = model(batch)\n",
    "        else:\n",
    "            masks = 1 - torch.Tensor(masks).float().to(device)\n",
    "            logits = model((batch, masks, [100, 6]))\n",
    "    probs = F.softmax(logits, dim=1)\n",
    "    return probs.detach().cpu().numpy()"
   ]
  },
  {
   "cell_type": "code",
   "execution_count": 4,
   "metadata": {
    "execution": {
     "iopub.execute_input": "2023-03-13T15:59:29.713995Z",
     "iopub.status.busy": "2023-03-13T15:59:29.713860Z",
     "iopub.status.idle": "2023-03-13T15:59:29.716161Z",
     "shell.execute_reply": "2023-03-13T15:59:29.715832Z"
    }
   },
   "outputs": [],
   "source": [
    "def blackout(imgs):\n",
    "    return 0\n",
    "\n",
    "def greyout(imgs):\n",
    "    return (255*np.array(preprocess_transform.transforms[1].mean)).astype(np.uint8)"
   ]
  },
  {
   "cell_type": "code",
   "execution_count": 5,
   "metadata": {
    "execution": {
     "iopub.execute_input": "2023-03-13T15:59:29.728915Z",
     "iopub.status.busy": "2023-03-13T15:59:29.728686Z",
     "iopub.status.idle": "2023-03-13T15:59:29.732321Z",
     "shell.execute_reply": "2023-03-13T15:59:29.731999Z"
    }
   },
   "outputs": [],
   "source": [
    "def block_segment(img, patch_size):\n",
    "    num_patch = 224//patch_size\n",
    "    segments = np.arange(num_patch*num_patch).reshape(1, 1, num_patch, 1, num_patch, 1)\n",
    "    seg_mask = np.tile(segments, (1, 1, 1, patch_size, 1, patch_size))\n",
    "    seg_mask = seg_mask.reshape(224, 224)\n",
    "    return seg_mask\n",
    "\n",
    "def contour_segment(imgs, masks):\n",
    "    tl = np.array(range(0, 20))/20\n",
    "    seg_masks = torch.zeros_like(masks, dtype=torch.uint8)\n",
    "    for i, t in enumerate(tl):\n",
    "        seg_masks[(masks > t)] = (i+1)\n",
    "    return seg_masks\n",
    "\n",
    "# def sklearn_segment(img, skseg_fn=quickshift):\n",
    "#     seg_masks = []\n",
    "#     for i, img in enumerate(imgs):\n",
    "#         img = np.transpose((1,2,0))\n",
    "#         sm = skseg_fn(img)\n",
    "#         seg_masks.append(sm[None,:])\n",
    "#     seg_masks = torch.stack(seg_masks, dim=0)\n",
    "#     return seg_masks"
   ]
  },
  {
   "cell_type": "code",
   "execution_count": 6,
   "metadata": {
    "execution": {
     "iopub.execute_input": "2023-03-13T15:59:29.733899Z",
     "iopub.status.busy": "2023-03-13T15:59:29.733743Z",
     "iopub.status.idle": "2023-03-13T15:59:29.739737Z",
     "shell.execute_reply": "2023-03-13T15:59:29.739372Z"
    }
   },
   "outputs": [],
   "source": [
    "from scikit_image import *\n",
    "from skimage.segmentation import mark_boundaries"
   ]
  },
  {
   "cell_type": "code",
   "execution_count": 7,
   "metadata": {
    "execution": {
     "iopub.execute_input": "2023-03-13T15:59:29.741355Z",
     "iopub.status.busy": "2023-03-13T15:59:29.741197Z",
     "iopub.status.idle": "2023-03-13T15:59:29.744541Z",
     "shell.execute_reply": "2023-03-13T15:59:29.744231Z"
    }
   },
   "outputs": [],
   "source": [
    "def mask_seg(seg_inds, seg_maps):\n",
    "    return (torch.sum((seg_inds[:,:,None,None,None] == seg_maps[:,  None, :, :, :]), dim=1) > 0).float()\n",
    "\n",
    "def topk_ablate(model, imgs, labels, seg_maps, seg_order, num_segs):\n",
    "    mask_seg_inds = seg_order[:,-num_segs:]\n",
    "    masks = mask_seg(mask_seg_inds, seg_maps)\n",
    "    transf_imgs = torch.stack([preprocess_transform(img) for img in imgs])\n",
    "    with torch.no_grad():\n",
    "        logits = model((transf_imgs)*(1-masks))\n",
    "    preds = logits.argmax(-1).cpu()\n",
    "    return (preds == labels).float().mean()"
   ]
  },
  {
   "cell_type": "code",
   "execution_count": 8,
   "metadata": {
    "execution": {
     "iopub.execute_input": "2023-03-13T15:59:29.746182Z",
     "iopub.status.busy": "2023-03-13T15:59:29.746022Z",
     "iopub.status.idle": "2023-03-13T15:59:29.748144Z",
     "shell.execute_reply": "2023-03-13T15:59:29.747828Z"
    }
   },
   "outputs": [],
   "source": [
    "def jacc_sim(m1, m2):\n",
    "    return np.sum(m1*m2)/np.clip(m1+m2,0,1).sum()"
   ]
  },
  {
   "cell_type": "code",
   "execution_count": 9,
   "metadata": {
    "execution": {
     "iopub.execute_input": "2023-03-13T15:59:29.749843Z",
     "iopub.status.busy": "2023-03-13T15:59:29.749682Z",
     "iopub.status.idle": "2023-03-13T16:59:27.705876Z",
     "shell.execute_reply": "2023-03-13T16:59:27.705473Z"
    }
   },
   "outputs": [
    {
     "ename": "ModuleNotFoundError",
     "evalue": "No module named 'convnext'",
     "output_type": "error",
     "traceback": [
      "\u001b[0;31m---------------------------------------------------------------------------\u001b[0m",
      "\u001b[0;31mModuleNotFoundError\u001b[0m                       Traceback (most recent call last)",
      "Cell \u001b[0;32mIn[9], line 2\u001b[0m\n\u001b[1;32m      1\u001b[0m \u001b[38;5;28;01mfrom\u001b[39;00m \u001b[38;5;21;01malexnet\u001b[39;00m \u001b[38;5;28;01mimport\u001b[39;00m alexnet\n\u001b[0;32m----> 2\u001b[0m \u001b[38;5;28;01mfrom\u001b[39;00m \u001b[38;5;21;01mconvnext\u001b[39;00m \u001b[38;5;28;01mimport\u001b[39;00m convnext_base\n\u001b[1;32m      3\u001b[0m \u001b[38;5;28;01mfrom\u001b[39;00m \u001b[38;5;21;01mefficientnet\u001b[39;00m \u001b[38;5;28;01mimport\u001b[39;00m efficientnet_b0\n\u001b[1;32m      4\u001b[0m \u001b[38;5;28;01mfrom\u001b[39;00m \u001b[38;5;21;01msqueezenet\u001b[39;00m \u001b[38;5;28;01mimport\u001b[39;00m squeezenet1_1\n",
      "\u001b[0;31mModuleNotFoundError\u001b[0m: No module named 'convnext'"
     ]
    }
   ],
   "source": [
    "from alexnet import alexnet\n",
    "from efficientnet import efficientnet_b0\n",
    "from squeezenet import squeezenet1_1\n",
    "\n",
    "from mobilenet import mobilenet_v2, mobilenet_v3_large\n",
    "from densenet import densenet121\n",
    "\n",
    "lime_bs=512\n",
    "eval_bs = 32\n",
    "eval_num_samples = 195\n",
    "lime_num_samples=512\n",
    "topk = 1\n",
    "ps = 16\n",
    "prop = 0.5\n",
    "eps = 1e-8\n",
    "\n",
    "model_list = [\n",
    "            (resnet50, 'resnet50'), \n",
    "            (wide_resnet50_2, 'wide_resnet50'),\n",
    "            (squeezenet1_1, 'SqueezeNet'),\n",
    "            (alexnet, 'AlexNet'),\n",
    "            (densenet121, 'DenseNet'),\n",
    "            (efficientnet_b0, 'EfficientNet'),\n",
    "            (mobilenet_v3_large, 'MobileNet'),\n",
    "             ]\n",
    "\n",
    "for model_type, model_name in model_list:\n",
    "    model = model_type(pretrained=True)\n",
    "    model = MyDataParallel(model).to(device)\n",
    "    model = model.eval()    \n",
    "\n",
    "    desc = f'pixel_imagenet_{model_name}'#_{ps}x{ps}'\n",
    "\n",
    "\n",
    "    seg_fns = [\n",
    "                SegmentationAlgorithm('quickshift', kernel_size=2,\n",
    "                                        max_dist=200, ratio=0.2,\n",
    "                                        random_seed=0),\n",
    "                lambda x: block_segment(x, ps),\n",
    "                SegmentationAlgorithm('slic', n_segments=250,\n",
    "                                        random_seed=0),\n",
    "                ]\n",
    "\n",
    "    if 'pixel' in desc:\n",
    "        dataset = pixel_imagenet\n",
    "    else:\n",
    "        dataset = salient_imagenet\n",
    "        dataset.dataset.transform = None\n",
    "\n",
    "    miss_approxns = [blackout, greyout, None]\n",
    "    miss_approxns_name = ['Blackout', 'Greyout', 'Layer mask']\n",
    "    cov_list = []\n",
    "    total = 0\n",
    "    pred_fn = lambda im, ma=None: batch_predict(model, im, ma)\n",
    "    all_scores = []\n",
    "    all_imgs, all_labels = [], []\n",
    "    all_segmaps = []\n",
    "    all_segorders = [[list() for _ in miss_approxns] for _ in seg_fns]\n",
    "    all_acc = [[list() for _ in miss_approxns] for _ in seg_fns]\n",
    "    for im_no, sample in enumerate(dataset):\n",
    "\n",
    "        if total >= eval_num_samples:\n",
    "            break\n",
    "        if sample is None:\n",
    "            continue\n",
    "        (img, mask, label) = sample\n",
    "\n",
    "        if 'pixel' in desc:\n",
    "            mask = pill_transf(mask)\n",
    "            mask = np.asarray(mask)[:,:,0]\n",
    "        else:\n",
    "            label = label.item()\n",
    "        img = pill_transf(img)\n",
    "\n",
    "        probs = pred_fn([np.array(img)])\n",
    "        topk_inds = torch.topk(torch.Tensor(probs[0]), topk).indices\n",
    "    #     print(topk_inds)\n",
    "        if label not in topk_inds:\n",
    "            continue\n",
    "        all_imgs.append(np.array(img))\n",
    "        all_labels.append(label)\n",
    "        total += 1\n",
    "        coverage = np.zeros((len(seg_fns), len(miss_approxns_name)))\n",
    "        jaccsims = np.zeros((len(seg_fns), len(miss_approxns_name)))\n",
    "        segmaps = []\n",
    "\n",
    "\n",
    "        for si, seg_fn in enumerate(seg_fns):\n",
    "            segments = seg_fn(img)\n",
    "            segmaps.append(torch.Tensor(segments[None]))\n",
    "            complete = True\n",
    "            n_features = np.unique(segments).shape[0]\n",
    "            print(n_features)\n",
    "            data = np.random.random_sample(size=(lime_num_samples, n_features))\n",
    "            data[data < prop] = 0\n",
    "            data[data >= prop] = 1\n",
    "            mask = mask.astype(float)\n",
    "            gt = np.array([np.sum((segments == i)*(mask - mask.mean())) for i in range(n_features)])\n",
    "            for j, miss_approx in enumerate(miss_approxns):\n",
    "                if miss_approxns_name[j] == 'Layer mask':\n",
    "                    explainer = lime_image.MyLimeImageExplainer()\n",
    "                    explanation = explainer.explain_instance(np.array(img), \n",
    "                                                             pred_fn, \n",
    "                                                             batch_size=lime_bs,\n",
    "                                                             top_labels=topk, \n",
    "                                                             data=data,\n",
    "                                                             segmentation_fn=seg_fn,\n",
    "                                                             num_samples=lime_num_samples,\n",
    "                                                             thresh=1000,\n",
    "                                                             prop=prop) \n",
    "                else:\n",
    "                    baseline = np.array(miss_approx(img))\n",
    "                    explainer = lime_image.LimeImageExplainer()\n",
    "                    explanation = explainer.explain_instance(np.array(img), \n",
    "                                                             pred_fn, \n",
    "                                                             batch_size=lime_bs,\n",
    "                                                             top_labels=topk,\n",
    "                                                             data=data,\n",
    "                                                             hide_color=baseline, \n",
    "                                                             segmentation_fn=seg_fn,\n",
    "                                                             num_samples=lime_num_samples,\n",
    "                                                             thresh=1000,\n",
    "                                                             prop=0.5) \n",
    "\n",
    "                if label not in explanation.local_exp.keys():\n",
    "                    print('Skipping..')\n",
    "                    complete = False\n",
    "                    break\n",
    "                score_dict = dict(explanation.local_exp[label])\n",
    "                scores = np.array([score_dict[i] for i in range(len(score_dict))])\n",
    "                coverage[si][j] = (scores*gt).sum()/(np.linalg.norm((scores))*np.linalg.norm(gt) + eps)\n",
    "\n",
    "                segorder = np.argsort(scores)\n",
    "                all_segorders[si][j].append(torch.LongTensor(segorder))\n",
    "                high_score_inds = segorder[-20:]\n",
    "                topk_mask = mask_seg(torch.Tensor(high_score_inds[None]), torch.Tensor(segments[None, None]))[0,0].numpy()\n",
    "                jaccsims[si][j] = jacc_sim(mask, topk_mask)  #np.mean(gt[high_score_inds])\n",
    "\n",
    "                all_scores.append(((im_no, si, j), coverage))\n",
    "                temp, imask = explanation.get_image_and_mask(label, positive_only=False, num_features=20, hide_rest=False)\n",
    "                lime_exp_img = mark_boundaries(temp/255.0, imask)\n",
    "            if not complete:\n",
    "                continue\n",
    "        all_segmaps.append(torch.stack(segmaps))\n",
    "        cov_list.append((label, coverage, jaccsims))\n",
    "        a = np.stack([x for _, _, x in cov_list])\n",
    "        best = np.argmax(a, axis=-1)\n",
    "        print([(best == i).mean(0) for i in range(3)])\n",
    "        print(np.stack([np.stack((x,y)) for _, x, y in cov_list]).mean(axis=0))\n",
    "        if total%eval_bs == 0 and im_no != 0:\n",
    "            all_imgs, all_labels = np.stack(all_imgs), torch.LongTensor(all_labels)\n",
    "            all_segmaps = torch.stack(all_segmaps)#[ for segmaps in all_segmaps])\n",
    "            all_segmaps = all_segmaps.transpose(0,1)\n",
    "\n",
    "            all_segorders = [[torch.stack([x[-20:] for x in so]) for so in so2] for so2 in all_segorders]\n",
    "\n",
    "            for si, so2 in enumerate(all_segorders):\n",
    "                for j, seg_order in enumerate(so2):\n",
    "                    all_acc[si][j].append(topk_ablate(model, all_imgs, all_labels, all_segmaps[si], seg_order, 20))\n",
    "            all_imgs, all_labels = [], []\n",
    "            all_segmaps, all_segorders = [], [[list() for _ in miss_approxns] for _ in seg_fns]\n",
    "            print(np.mean(np.array(all_acc), axis=-1))\n",
    "            with open(f'./results/top20_ablations_new_{model_name}.pkl', 'wb+') as fp:\n",
    "                pickle.dump(all_acc, fp)\n",
    "            with open(f'./results/cov_list_new_{model_name}.pkl', 'wb+') as fp:\n",
    "                pickle.dump(cov_list, fp)\n",
    "\n"
   ]
  },
  {
   "cell_type": "code",
   "execution_count": null,
   "metadata": {},
   "outputs": [],
   "source": [
    "with open(f'./results/cov_list_new_{model_name}.pkl', 'wb+') as fp:\n",
    "    pickle.dump(cov_list, fp)"
   ]
  }
 ],
 "metadata": {
  "kernelspec": {
   "display_name": "Python 3 (ipykernel)",
   "language": "python",
   "name": "python3"
  },
  "language_info": {
   "codemirror_mode": {
    "name": "ipython",
    "version": 3
   },
   "file_extension": ".py",
   "mimetype": "text/x-python",
   "name": "python",
   "nbconvert_exporter": "python",
   "pygments_lexer": "ipython3",
   "version": "3.8.16"
  }
 },
 "nbformat": 4,
 "nbformat_minor": 2
}
